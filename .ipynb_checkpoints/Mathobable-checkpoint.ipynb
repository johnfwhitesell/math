{
 "cells": [
  {
   "cell_type": "code",
   "execution_count": 7,
   "metadata": {},
   "outputs": [],
   "source": [
    "from random import choice\n",
    "\n",
    "verbs = [\n",
    "    'resolve',\n",
    "    'solve for',\n",
    "    'discover',\n",
    "    'pidgeonhole',\n",
    "    'decompose',\n",
    "    'eliminate',\n",
    "    'iterate',\n",
    "    'reduce',\n",
    "    'predict',\n",
    "    'transform',\n",
    "    'maximize',\n",
    "    'minimize',\n",
    "    'select',\n",
    "    'control'\n",
    "]\n",
    "\n",
    "subjects = [\n",
    "    'vector space',\n",
    "    'variance',\n",
    "    'integral',\n",
    "    'limit',\n",
    "    'variance',\n",
    "    'expectation',\n",
    "    'gradiant decent',\n",
    "    'sample',\n",
    "    'population',\n",
    "    'principal component',\n",
    "    'outlier',\n",
    "    'values',\n",
    "    'observations',\n",
    "    'cross tabs',\n",
    "    'best case',\n",
    "    'transformation',\n",
    "    'eigen vector'\n",
    "]\n",
    "\n",
    "techniques = [\n",
    "    'eliminate component vectors',\n",
    "    'transform the space',\n",
    "    'do a laplace transformation',\n",
    "    'do a logistic regression',\n",
    "    'plot the covariance',\n",
    "    'add more hidden layers',\n",
    "    'add even more hidden layers',\n",
    "    'make the relu leaky',\n",
    "    'normalize the data',\n",
    "    'take the natural log',\n",
    "    'try an OLS',\n",
    "    'throw out the outliers',\n",
    "    'skip the nulls',\n",
    "    'add variables',\n",
    "    'eliminate variables',\n",
    "    'quiksort'\n",
    "]\n",
    "\n",
    "def advice():\n",
    "    a = choice(techniques)\n",
    "    b = choice(verbs)\n",
    "    c = choice(subjects)\n",
    "    phrase = \"We need to \" + a + \" to \" + b + \" the \" + c + \". Like putting too much air in a balloon.\"\n",
    "    return phrase"
   ]
  },
  {
   "cell_type": "code",
   "execution_count": 9,
   "metadata": {},
   "outputs": [
    {
     "name": "stdout",
     "output_type": "stream",
     "text": [
      "We need to quiksort to control the integral. Like putting too much air in a balloon.\n",
      "We need to try an OLS to select the variance. Like putting too much air in a balloon.\n",
      "We need to do a laplace transformation to resolve the population. Like putting too much air in a balloon.\n",
      "We need to try an OLS to reduce the expectation. Like putting too much air in a balloon.\n",
      "We need to add even more hidden layers to select the integral. Like putting too much air in a balloon.\n",
      "We need to do a logistic regression to select the sample. Like putting too much air in a balloon.\n",
      "We need to eliminate variables to select the cross tabs. Like putting too much air in a balloon.\n",
      "We need to add more hidden layers to reduce the limit. Like putting too much air in a balloon.\n",
      "We need to skip the nulls to pidgeonhole the best case. Like putting too much air in a balloon.\n",
      "We need to add even more hidden layers to select the expectation. Like putting too much air in a balloon.\n",
      "We need to skip the nulls to minimize the principal component. Like putting too much air in a balloon.\n",
      "We need to eliminate variables to reduce the gradiant decent. Like putting too much air in a balloon.\n",
      "We need to eliminate variables to solve for the outlier. Like putting too much air in a balloon.\n",
      "We need to transform the space to minimize the variance. Like putting too much air in a balloon.\n",
      "We need to plot the covariance to discover the gradiant decent. Like putting too much air in a balloon.\n",
      "We need to add more hidden layers to control the variance. Like putting too much air in a balloon.\n",
      "We need to take the natural log to decompose the integral. Like putting too much air in a balloon.\n",
      "We need to quiksort to minimize the expectation. Like putting too much air in a balloon.\n",
      "We need to take the natural log to predict the principal component. Like putting too much air in a balloon.\n",
      "We need to do a laplace transformation to pidgeonhole the variance. Like putting too much air in a balloon.\n"
     ]
    }
   ],
   "source": [
    "for _ in range(20):\n",
    "    print(advice())"
   ]
  },
  {
   "cell_type": "code",
   "execution_count": null,
   "metadata": {},
   "outputs": [],
   "source": []
  }
 ],
 "metadata": {
  "kernelspec": {
   "display_name": "Python 3",
   "language": "python",
   "name": "python3"
  },
  "language_info": {
   "codemirror_mode": {
    "name": "ipython",
    "version": 3
   },
   "file_extension": ".py",
   "mimetype": "text/x-python",
   "name": "python",
   "nbconvert_exporter": "python",
   "pygments_lexer": "ipython3",
   "version": "3.6.4"
  }
 },
 "nbformat": 4,
 "nbformat_minor": 2
}
